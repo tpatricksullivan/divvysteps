{
 "cells": [
  {
   "cell_type": "code",
   "execution_count": 185,
   "metadata": {
    "collapsed": false
   },
   "outputs": [],
   "source": [
    "import pandas as pd\n",
    "import numpy as np\n",
    "import matplotlib.pyplot as plt\n",
    "import math\n",
    "from keras.models import Sequential\n",
    "from keras.layers import Dense\n",
    "from keras.layers import LSTM\n",
    "from keras.layers import Activation\n",
    "from keras.layers.wrappers import TimeDistributed\n",
    "from keras.layers.advanced_activations import LeakyReLU\n",
    "from sklearn.preprocessing import MinMaxScaler\n",
    "from sklearn.cross_validation import train_test_split\n",
    "from sklearn.metrics import mean_squared_error\n",
    "%matplotlib inline  "
   ]
  },
  {
   "cell_type": "code",
   "execution_count": 281,
   "metadata": {
    "collapsed": true
   },
   "outputs": [],
   "source": [
    "def train_test_split(data, p=None):\n",
    "    if p:\n",
    "        split_index = int(len(data) * p)\n",
    "\n",
    "    train = data[:split_index]\n",
    "    test = data[split_index:]\n",
    "    return train, test, split_index"
   ]
  },
  {
   "cell_type": "code",
   "execution_count": 3,
   "metadata": {
    "collapsed": true
   },
   "outputs": [],
   "source": [
    "def lag_data(data, lag=1):\n",
    "    data = list(data)\n",
    "    X, y = [], []\n",
    "    for i in range(len(data) - lag - 1):\n",
    "        a = data[i: i + lag]\n",
    "        X.append(a)\n",
    "        y.append(data[i + lag])\n",
    "    return np.array(X), np.array(y)"
   ]
  },
  {
   "cell_type": "code",
   "execution_count": 271,
   "metadata": {
    "collapsed": false
   },
   "outputs": [],
   "source": [
    "def create_simple_network_retain_state(lags, batch_size, retain_state):\n",
    "    model = Sequential()\n",
    "    model.add(LSTM(28, batch_input_shape=(batch_size, lags, 1), return_sequences=True, dropout_W=0.1, dropout_U=0.1, stateful=retain_state))\n",
    "    model.add(LSTM(28, batch_input_shape=(batch_size, lags, 1), return_sequences=True, dropout_W=0.1, dropout_U=0.1, stateful=retain_state))\n",
    "    model.add(LSTM(28, batch_input_shape=(batch_size, lags, 1), return_sequences=True, dropout_W=0.1, dropout_U=0.1, stateful=retain_state))\n",
    "    model.add(LSTM(14, batch_input_shape=(batch_size, lags, 1), stateful=retain_state))\n",
    "    model.add(Dense(1))\n",
    "    model.compile(loss='mean_squared_error', optimizer='adam')\n",
    "    return model"
   ]
  },
  {
   "cell_type": "code",
   "execution_count": 124,
   "metadata": {
    "collapsed": true
   },
   "outputs": [],
   "source": [
    "lags = 28\n",
    "output = 7"
   ]
  },
  {
   "cell_type": "markdown",
   "metadata": {},
   "source": [
    "# Arrivals"
   ]
  },
  {
   "cell_type": "code",
   "execution_count": 23,
   "metadata": {
    "collapsed": false
   },
   "outputs": [
    {
     "data": {
      "text/plain": [
       "0     2\n",
       "1    21\n",
       "2    13\n",
       "3     5\n",
       "4     7\n",
       "Name: 1, dtype: int64"
      ]
     },
     "execution_count": 23,
     "metadata": {},
     "output_type": "execute_result"
    }
   ],
   "source": [
    "arr = pd.read_csv(\"../data/Sample/333_arrivals.csv\", header=None)[1]\n",
    "arr.head()"
   ]
  },
  {
   "cell_type": "code",
   "execution_count": 24,
   "metadata": {
    "collapsed": false
   },
   "outputs": [
    {
     "data": {
      "image/png": "[encoded data removed]",
      "text/plain": [
       "<matplotlib.figure.Figure at 0x11ba66090>"
      ]
     },
     "metadata": {},
     "output_type": "display_data"
    }
   ],
   "source": [
    "plt.plot(arr)\n",
    "plt.show()"
   ]
  },
  {
   "cell_type": "markdown",
   "metadata": {},
   "source": [
    "# 1-Step Forecast"
   ]
  },
  {
   "cell_type": "code",
   "execution_count": 289,
   "metadata": {
    "collapsed": false
   },
   "outputs": [
    {
     "name": "stdout",
     "output_type": "stream",
     "text": [
      "Epoch 1/1\n",
      "1s - loss: 0.0166\n",
      "Epoch 1/1\n",
      "1s - loss: 0.0207\n",
      "Epoch 1/1\n",
      "1s - loss: 0.0224\n",
      "Epoch 1/1\n",
      "1s - loss: 0.0254\n",
      "Epoch 1/1\n",
      "1s - loss: 0.0395\n",
      "Epoch 1/1\n",
      "2s - loss: 0.0375\n",
      "Epoch 1/1\n",
      "1s - loss: 0.0385\n",
      "Epoch 1/1\n",
      "1s - loss: 0.0234\n",
      "Epoch 1/1\n",
      "1s - loss: 0.0200\n",
      "Epoch 1/1\n",
      "1s - loss: 0.0208\n",
      "Epoch 1/1\n",
      "1s - loss: 0.0181\n",
      "Epoch 1/1\n",
      "2s - loss: 0.0176\n",
      "Epoch 1/1\n",
      "1s - loss: 0.0197\n",
      "Epoch 1/1\n",
      "1s - loss: 0.0176\n",
      "Epoch 1/1\n",
      "2s - loss: 0.0176\n",
      "Epoch 1/1\n",
      "1s - loss: 0.0163\n",
      "Epoch 1/1\n",
      "1s - loss: 0.0163\n",
      "Epoch 1/1\n",
      "1s - loss: 0.0167\n",
      "Epoch 1/1\n",
      "1s - loss: 0.0166\n",
      "Epoch 1/1\n",
      "1s - loss: 0.0166\n",
      "Epoch 1/1\n",
      "1s - loss: 0.0149\n",
      "Epoch 1/1\n",
      "1s - loss: 0.0152\n",
      "Epoch 1/1\n",
      "1s - loss: 0.0157\n",
      "Epoch 1/1\n",
      "1s - loss: 0.0157\n",
      "Epoch 1/1\n",
      "1s - loss: 0.0149\n",
      "Epoch 1/1\n",
      "1s - loss: 0.0146\n",
      "Epoch 1/1\n",
      "1s - loss: 0.0145\n",
      "Epoch 1/1\n",
      "1s - loss: 0.0155\n",
      "Epoch 1/1\n",
      "1s - loss: 0.0147\n",
      "Epoch 1/1\n",
      "1s - loss: 0.0147\n",
      "Epoch 1/1\n",
      "1s - loss: 0.0143\n",
      "Epoch 1/1\n",
      "1s - loss: 0.0150\n",
      "Epoch 1/1\n",
      "1s - loss: 0.0138\n",
      "Epoch 1/1\n",
      "1s - loss: 0.0144\n",
      "Epoch 1/1\n",
      "1s - loss: 0.0140\n",
      "Epoch 1/1\n",
      "1s - loss: 0.0134\n",
      "Epoch 1/1\n",
      "1s - loss: 0.0139\n",
      "Epoch 1/1\n",
      "1s - loss: 0.0136\n",
      "Epoch 1/1\n",
      "2s - loss: 0.0132\n",
      "Epoch 1/1\n",
      "2s - loss: 0.0134\n",
      "Epoch 1/1\n",
      "1s - loss: 0.0132\n",
      "Epoch 1/1\n",
      "1s - loss: 0.0139\n",
      "Epoch 1/1\n",
      "1s - loss: 0.0137\n",
      "Epoch 1/1\n",
      "1s - loss: 0.0134\n",
      "Epoch 1/1\n",
      "1s - loss: 0.0132\n",
      "Epoch 1/1\n",
      "1s - loss: 0.0130\n",
      "Epoch 1/1\n",
      "1s - loss: 0.0132\n",
      "Epoch 1/1\n",
      "1s - loss: 0.0133\n",
      "Epoch 1/1\n",
      "1s - loss: 0.0135\n",
      "Epoch 1/1\n",
      "1s - loss: 0.0129\n",
      "Epoch 1/1\n",
      "1s - loss: 0.0138\n",
      "Epoch 1/1\n",
      "1s - loss: 0.0137\n",
      "Epoch 1/1\n",
      "1s - loss: 0.0132\n",
      "Epoch 1/1\n",
      "1s - loss: 0.0154\n",
      "Epoch 1/1\n",
      "1s - loss: 0.0162\n",
      "Epoch 1/1\n",
      "1s - loss: 0.0175\n",
      "Epoch 1/1\n",
      "1s - loss: 0.0147\n",
      "Epoch 1/1\n",
      "2s - loss: 0.0135\n",
      "Epoch 1/1\n",
      "1s - loss: 0.0137\n",
      "Epoch 1/1\n",
      "1s - loss: 0.0125\n",
      "Epoch 1/1\n",
      "1s - loss: 0.0125\n",
      "Epoch 1/1\n",
      "1s - loss: 0.0130\n",
      "Epoch 1/1\n",
      "1s - loss: 0.0137\n",
      "Epoch 1/1\n",
      "1s - loss: 0.0124\n",
      "Epoch 1/1\n",
      "1s - loss: 0.0130\n",
      "Epoch 1/1\n",
      "1s - loss: 0.0134\n",
      "Epoch 1/1\n",
      "1s - loss: 0.0131\n",
      "Epoch 1/1\n",
      "1s - loss: 0.0130\n",
      "Epoch 1/1\n",
      "1s - loss: 0.0130\n",
      "Epoch 1/1\n",
      "1s - loss: 0.0127\n",
      "Epoch 1/1\n",
      "1s - loss: 0.0129\n",
      "Epoch 1/1\n",
      "1s - loss: 0.0126\n",
      "Epoch 1/1\n",
      "1s - loss: 0.0123\n",
      "Epoch 1/1\n",
      "1s - loss: 0.0141\n",
      "Epoch 1/1\n",
      "1s - loss: 0.0138\n",
      "Epoch 1/1\n",
      "1s - loss: 0.0127\n",
      "Epoch 1/1\n",
      "1s - loss: 0.0130\n",
      "Epoch 1/1\n",
      "2s - loss: 0.0135\n",
      "Epoch 1/1\n",
      "1s - loss: 0.0135\n",
      "Epoch 1/1\n",
      "1s - loss: 0.0127\n",
      "Epoch 1/1\n",
      "1s - loss: 0.0126\n",
      "Epoch 1/1\n",
      "1s - loss: 0.0131\n",
      "Epoch 1/1\n",
      "1s - loss: 0.0124\n",
      "Epoch 1/1\n",
      "1s - loss: 0.0123\n",
      "Epoch 1/1\n",
      "1s - loss: 0.0131\n",
      "Epoch 1/1\n",
      "1s - loss: 0.0126\n",
      "Epoch 1/1\n",
      "1s - loss: 0.0126\n",
      "Epoch 1/1\n",
      "1s - loss: 0.0128\n",
      "Epoch 1/1\n",
      "1s - loss: 0.0124\n",
      "Epoch 1/1\n",
      "1s - loss: 0.0126\n",
      "Epoch 1/1\n",
      "1s - loss: 0.0121\n",
      "Epoch 1/1\n",
      "1s - loss: 0.0123\n",
      "Epoch 1/1\n",
      "1s - loss: 0.0125\n",
      "Epoch 1/1\n",
      "1s - loss: 0.0126\n",
      "Epoch 1/1\n",
      "1s - loss: 0.0123\n",
      "Epoch 1/1\n",
      "1s - loss: 0.0125\n",
      "Epoch 1/1\n",
      "1s - loss: 0.0123\n",
      "Epoch 1/1\n",
      "1s - loss: 0.0126\n",
      "Epoch 1/1\n",
      "1s - loss: 0.0123\n",
      "Epoch 1/1\n",
      "1s - loss: 0.0128\n"
     ]
    },
    {
     "name": "stderr",
     "output_type": "stream",
     "text": [
      "/Users/computer/anaconda/lib/python2.7/site-packages/sklearn/utils/validation.py:420: DataConversionWarning: Data with input dtype int64 was converted to float64 by MinMaxScaler.\n",
      "  warnings.warn(msg, DataConversionWarning)\n",
      "/Users/computer/anaconda/lib/python2.7/site-packages/sklearn/preprocessing/data.py:324: DeprecationWarning: Passing 1d arrays as data is deprecated in 0.17 and will raise ValueError in 0.19. Reshape your data either using X.reshape(-1, 1) if your data has a single feature or X.reshape(1, -1) if it contains a single sample.\n",
      "  warnings.warn(DEPRECATION_MSG_1D, DeprecationWarning)\n",
      "/Users/computer/anaconda/lib/python2.7/site-packages/sklearn/preprocessing/data.py:359: DeprecationWarning: Passing 1d arrays as data is deprecated in 0.17 and will raise ValueError in 0.19. Reshape your data either using X.reshape(-1, 1) if your data has a single feature or X.reshape(1, -1) if it contains a single sample.\n",
      "  warnings.warn(DEPRECATION_MSG_1D, DeprecationWarning)\n"
     ]
    }
   ],
   "source": [
    "scaler = MinMaxScaler(feature_range=(0, 1))\n",
    "data = pd.read_csv(\"../data/Sample/333_arrivals.csv\", header=None)[1]\n",
    "data = scaler.fit_transform(data)\n",
    "train, test, split_index = train_test_split(data, p=0.7)\n",
    "X_train, y_train = lag_data(train, lag=lags)\n",
    "X_test, y_test = lag_data(test, lag=lags)\n",
    "\n",
    "X_train = np.reshape(X_train, (X_train.shape[0], X_train.shape[1], 1))\n",
    "X_test = np.reshape(X_test, (X_test.shape[0], X_test.shape[1], 1))\n",
    "\n",
    "# model = create_simple_network(lags)\n",
    "# model.fit(X_train, y_train, nb_epoch=100, batch_size=14, verbose=0, retain_state=False)\n",
    "\n",
    "batch_size = 6\n",
    "model = create_simple_network_retain_state(lags, batch_size, retain_state=True)\n",
    "\n",
    "for i in range(100):\n",
    "    model.fit(X_train, y_train, nb_epoch=1, batch_size=batch_size, verbose=2, shuffle=False)\n",
    "    model.reset_states()\n"
   ]
  },
  {
   "cell_type": "code",
   "execution_count": 290,
   "metadata": {
    "collapsed": false,
    "scrolled": true
   },
   "outputs": [
    {
     "name": "stdout",
     "output_type": "stream",
     "text": [
      "Train Score: 6.93 RMSE\n",
      "Test Score: 6.65 RMSE\n"
     ]
    },
    {
     "name": "stderr",
     "output_type": "stream",
     "text": [
      "/Users/computer/anaconda/lib/python2.7/site-packages/sklearn/preprocessing/data.py:377: DeprecationWarning: Passing 1d arrays as data is deprecated in 0.17 and will raise ValueError in 0.19. Reshape your data either using X.reshape(-1, 1) if your data has a single feature or X.reshape(1, -1) if it contains a single sample.\n",
      "  warnings.warn(DEPRECATION_MSG_1D, DeprecationWarning)\n",
      "/Users/computer/anaconda/lib/python2.7/site-packages/sklearn/preprocessing/data.py:377: DeprecationWarning: Passing 1d arrays as data is deprecated in 0.17 and will raise ValueError in 0.19. Reshape your data either using X.reshape(-1, 1) if your data has a single feature or X.reshape(1, -1) if it contains a single sample.\n",
      "  warnings.warn(DEPRECATION_MSG_1D, DeprecationWarning)\n"
     ]
    }
   ],
   "source": [
    "train_preds = model.predict(X_train, batch_size=batch_size)\n",
    "test_preds = model.predict(X_test, batch_size=batch_size)\n",
    "\n",
    "train_preds = scaler.inverse_transform(train_preds)\n",
    "y_train = scaler.inverse_transform(y_train)\n",
    "test_preds = scaler.inverse_transform(test_preds)\n",
    "y_test = scaler.inverse_transform(y_test)\n",
    "\n",
    "train_score = math.sqrt(mean_squared_error(y_train, train_preds))\n",
    "print('Train Score: %.2f RMSE' % (train_score))\n",
    "test_score = math.sqrt(mean_squared_error(y_test, test_preds))\n",
    "print('Test Score: %.2f RMSE' % (test_score))"
   ]
  },
  {
   "cell_type": "code",
   "execution_count": 298,
   "metadata": {
    "collapsed": false
   },
   "outputs": [
    {
     "data": {
      "text/plain": [
       "<matplotlib.axes._subplots.AxesSubplot at 0x1abc87ed0>"
      ]
     },
     "execution_count": 298,
     "metadata": {},
     "output_type": "execute_result"
    },
    {
     "data": {
      "image/png": "[encoded data removed]",
      "text/plain": [
       "<matplotlib.figure.Figure at 0x1abcd2d50>"
      ]
     },
     "metadata": {},
     "output_type": "display_data"
    }
   ],
   "source": [
    "results = pd.concat([pd.Series(y_test), pd.Series(map(lambda x: x[0], test_preds))], axis=1)\n",
    "results.columns = [\"Actual\", \"Predicted\"]\n",
    "results.plot()"
   ]
  },
  {
   "cell_type": "markdown",
   "metadata": {},
   "source": [
    "# Departures"
   ]
  },
  {
   "cell_type": "code",
   "execution_count": 293,
   "metadata": {
    "collapsed": false
   },
   "outputs": [
    {
     "data": {
      "text/plain": [
       "0     3\n",
       "1    18\n",
       "2     6\n",
       "3     6\n",
       "4     9\n",
       "Name: 1, dtype: int64"
      ]
     },
     "execution_count": 293,
     "metadata": {},
     "output_type": "execute_result"
    }
   ],
   "source": [
    "dep = pd.read_csv(\"../data/Sample/333_departures.csv\", header=None)[1]\n",
    "dep.head()"
   ]
  },
  {
   "cell_type": "code",
   "execution_count": 294,
   "metadata": {
    "collapsed": false
   },
   "outputs": [
    {
     "data": {
      "image/png": "[encoded data removed]",
      "text/plain": [
       "<matplotlib.figure.Figure at 0x18184f110>"
      ]
     },
     "metadata": {},
     "output_type": "display_data"
    }
   ],
   "source": [
    "plt.plot(dep)\n",
    "plt.show()"
   ]
  },
  {
   "cell_type": "code",
   "execution_count": 295,
   "metadata": {
    "collapsed": false
   },
   "outputs": [
    {
     "name": "stdout",
     "output_type": "stream",
     "text": [
      "Epoch 1/1\n",
      "1s - loss: 0.0165\n",
      "Epoch 1/1\n",
      "1s - loss: 0.0240\n",
      "Epoch 1/1\n",
      "1s - loss: 0.0287\n",
      "Epoch 1/1\n",
      "1s - loss: 0.0269\n",
      "Epoch 1/1\n",
      "1s - loss: 0.0331\n",
      "Epoch 1/1\n",
      "1s - loss: 0.0358\n",
      "Epoch 1/1\n",
      "1s - loss: 0.0362\n",
      "Epoch 1/1\n",
      "1s - loss: 0.0534\n",
      "Epoch 1/1\n",
      "1s - loss: 0.0577\n",
      "Epoch 1/1\n",
      "1s - loss: 0.0436\n",
      "Epoch 1/1\n",
      "1s - loss: 0.0290\n",
      "Epoch 1/1\n",
      "1s - loss: 0.0221\n",
      "Epoch 1/1\n",
      "1s - loss: 0.0222\n",
      "Epoch 1/1\n",
      "1s - loss: 0.0225\n",
      "Epoch 1/1\n",
      "1s - loss: 0.0200\n",
      "Epoch 1/1\n",
      "1s - loss: 0.0200\n",
      "Epoch 1/1\n",
      "2s - loss: 0.0184\n",
      "Epoch 1/1\n",
      "1s - loss: 0.0190\n",
      "Epoch 1/1\n",
      "1s - loss: 0.0189\n",
      "Epoch 1/1\n",
      "1s - loss: 0.0170\n",
      "Epoch 1/1\n",
      "1s - loss: 0.0170\n",
      "Epoch 1/1\n",
      "1s - loss: 0.0168\n",
      "Epoch 1/1\n",
      "1s - loss: 0.0178\n",
      "Epoch 1/1\n",
      "1s - loss: 0.0168\n",
      "Epoch 1/1\n",
      "1s - loss: 0.0173\n",
      "Epoch 1/1\n",
      "1s - loss: 0.0162\n",
      "Epoch 1/1\n",
      "1s - loss: 0.0173\n",
      "Epoch 1/1\n",
      "1s - loss: 0.0166\n",
      "Epoch 1/1\n",
      "1s - loss: 0.0165\n",
      "Epoch 1/1\n",
      "1s - loss: 0.0165\n",
      "Epoch 1/1\n",
      "1s - loss: 0.0158\n",
      "Epoch 1/1\n",
      "1s - loss: 0.0158\n",
      "Epoch 1/1\n",
      "1s - loss: 0.0164\n",
      "Epoch 1/1\n",
      "1s - loss: 0.0178\n",
      "Epoch 1/1\n",
      "1s - loss: 0.0161\n",
      "Epoch 1/1\n",
      "2s - loss: 0.0148\n",
      "Epoch 1/1\n",
      "2s - loss: 0.0154\n",
      "Epoch 1/1\n",
      "1s - loss: 0.0153\n",
      "Epoch 1/1\n",
      "1s - loss: 0.0156\n",
      "Epoch 1/1\n",
      "1s - loss: 0.0142\n",
      "Epoch 1/1\n",
      "1s - loss: 0.0148\n",
      "Epoch 1/1\n",
      "1s - loss: 0.0147\n",
      "Epoch 1/1\n",
      "1s - loss: 0.0142\n",
      "Epoch 1/1\n",
      "1s - loss: 0.0140\n",
      "Epoch 1/1\n",
      "1s - loss: 0.0152\n",
      "Epoch 1/1\n",
      "1s - loss: 0.0142\n",
      "Epoch 1/1\n",
      "1s - loss: 0.0141\n",
      "Epoch 1/1\n",
      "1s - loss: 0.0137\n",
      "Epoch 1/1\n",
      "1s - loss: 0.0147\n",
      "Epoch 1/1\n",
      "1s - loss: 0.0133\n",
      "Epoch 1/1\n",
      "1s - loss: 0.0138\n",
      "Epoch 1/1\n",
      "1s - loss: 0.0141\n",
      "Epoch 1/1\n",
      "1s - loss: 0.0146\n",
      "Epoch 1/1\n",
      "1s - loss: 0.0135\n",
      "Epoch 1/1\n",
      "1s - loss: 0.0142\n",
      "Epoch 1/1\n",
      "1s - loss: 0.0128\n",
      "Epoch 1/1\n",
      "1s - loss: 0.0143\n",
      "Epoch 1/1\n",
      "1s - loss: 0.0134\n",
      "Epoch 1/1\n",
      "1s - loss: 0.0133\n",
      "Epoch 1/1\n",
      "1s - loss: 0.0132\n",
      "Epoch 1/1\n",
      "1s - loss: 0.0141\n",
      "Epoch 1/1\n",
      "1s - loss: 0.0138\n",
      "Epoch 1/1\n",
      "1s - loss: 0.0146\n",
      "Epoch 1/1\n",
      "1s - loss: 0.0134\n",
      "Epoch 1/1\n",
      "1s - loss: 0.0132\n",
      "Epoch 1/1\n",
      "1s - loss: 0.0133\n",
      "Epoch 1/1\n",
      "1s - loss: 0.0133\n",
      "Epoch 1/1\n",
      "1s - loss: 0.0131\n",
      "Epoch 1/1\n",
      "1s - loss: 0.0129\n",
      "Epoch 1/1\n",
      "1s - loss: 0.0133\n",
      "Epoch 1/1\n",
      "1s - loss: 0.0135\n",
      "Epoch 1/1\n",
      "1s - loss: 0.0134\n",
      "Epoch 1/1\n",
      "1s - loss: 0.0127\n",
      "Epoch 1/1\n",
      "1s - loss: 0.0130\n",
      "Epoch 1/1\n",
      "1s - loss: 0.0123\n",
      "Epoch 1/1\n",
      "1s - loss: 0.0128\n",
      "Epoch 1/1\n",
      "1s - loss: 0.0133\n",
      "Epoch 1/1\n",
      "1s - loss: 0.0124\n",
      "Epoch 1/1\n",
      "1s - loss: 0.0134\n",
      "Epoch 1/1\n",
      "1s - loss: 0.0127\n",
      "Epoch 1/1\n",
      "1s - loss: 0.0128\n",
      "Epoch 1/1\n",
      "1s - loss: 0.0143\n",
      "Epoch 1/1\n",
      "1s - loss: 0.0126\n",
      "Epoch 1/1\n",
      "1s - loss: 0.0126\n",
      "Epoch 1/1\n",
      "1s - loss: 0.0120\n",
      "Epoch 1/1\n",
      "1s - loss: 0.0123\n",
      "Epoch 1/1\n",
      "1s - loss: 0.0122\n",
      "Epoch 1/1\n",
      "1s - loss: 0.0121\n",
      "Epoch 1/1\n",
      "1s - loss: 0.0112\n",
      "Epoch 1/1\n",
      "1s - loss: 0.0125\n",
      "Epoch 1/1\n",
      "1s - loss: 0.0118\n",
      "Epoch 1/1\n",
      "1s - loss: 0.0121\n",
      "Epoch 1/1\n",
      "1s - loss: 0.0117\n",
      "Epoch 1/1\n",
      "1s - loss: 0.0116\n",
      "Epoch 1/1\n",
      "1s - loss: 0.0117\n",
      "Epoch 1/1\n",
      "1s - loss: 0.0115\n",
      "Epoch 1/1\n",
      "1s - loss: 0.0115\n",
      "Epoch 1/1\n",
      "1s - loss: 0.0113\n",
      "Epoch 1/1\n",
      "1s - loss: 0.0120\n",
      "Epoch 1/1\n",
      "1s - loss: 0.0119\n"
     ]
    },
    {
     "name": "stderr",
     "output_type": "stream",
     "text": [
      "/Users/computer/anaconda/lib/python2.7/site-packages/sklearn/utils/validation.py:420: DataConversionWarning: Data with input dtype int64 was converted to float64 by MinMaxScaler.\n",
      "  warnings.warn(msg, DataConversionWarning)\n",
      "/Users/computer/anaconda/lib/python2.7/site-packages/sklearn/preprocessing/data.py:324: DeprecationWarning: Passing 1d arrays as data is deprecated in 0.17 and will raise ValueError in 0.19. Reshape your data either using X.reshape(-1, 1) if your data has a single feature or X.reshape(1, -1) if it contains a single sample.\n",
      "  warnings.warn(DEPRECATION_MSG_1D, DeprecationWarning)\n",
      "/Users/computer/anaconda/lib/python2.7/site-packages/sklearn/preprocessing/data.py:359: DeprecationWarning: Passing 1d arrays as data is deprecated in 0.17 and will raise ValueError in 0.19. Reshape your data either using X.reshape(-1, 1) if your data has a single feature or X.reshape(1, -1) if it contains a single sample.\n",
      "  warnings.warn(DEPRECATION_MSG_1D, DeprecationWarning)\n"
     ]
    }
   ],
   "source": [
    "scaler = MinMaxScaler(feature_range=(0, 1))\n",
    "model = create_simple_network(lags)\n",
    "data = pd.read_csv(\"../data/Sample/333_departures.csv\", header=None)[1]\n",
    "data = scaler.fit_transform(data)\n",
    "train, test, split_index = train_test_split(data, p=0.7)\n",
    "X_train, y_train = lag_data(train, lag=lags)\n",
    "X_test, y_test = lag_data(test, lag=lags)\n",
    "\n",
    "X_train = np.reshape(X_train, (X_train.shape[0], X_train.shape[1], 1))\n",
    "X_test = np.reshape(X_test, (X_test.shape[0], X_test.shape[1], 1))\n",
    "\n",
    "# model = create_simple_network(lags)\n",
    "# model.fit(X_train, y_train, nb_epoch=100, batch_size=14, verbose=0, retain_state=False)\n",
    "\n",
    "batch_size = 6\n",
    "model = create_simple_network_retain_state(lags, batch_size, retain_state=True)\n",
    "\n",
    "for i in range(100):\n",
    "    model.fit(X_train, y_train, nb_epoch=1, batch_size=batch_size, verbose=2, shuffle=False)\n",
    "    model.reset_states()\n"
   ]
  },
  {
   "cell_type": "code",
   "execution_count": 297,
   "metadata": {
    "collapsed": false
   },
   "outputs": [
    {
     "name": "stdout",
     "output_type": "stream",
     "text": [
      "Train Score: 6.66 RMSE\n",
      "Test Score: 6.59 RMSE\n"
     ]
    },
    {
     "name": "stderr",
     "output_type": "stream",
     "text": [
      "/Users/computer/anaconda/lib/python2.7/site-packages/sklearn/preprocessing/data.py:377: DeprecationWarning: Passing 1d arrays as data is deprecated in 0.17 and will raise ValueError in 0.19. Reshape your data either using X.reshape(-1, 1) if your data has a single feature or X.reshape(1, -1) if it contains a single sample.\n",
      "  warnings.warn(DEPRECATION_MSG_1D, DeprecationWarning)\n",
      "/Users/computer/anaconda/lib/python2.7/site-packages/sklearn/preprocessing/data.py:377: DeprecationWarning: Passing 1d arrays as data is deprecated in 0.17 and will raise ValueError in 0.19. Reshape your data either using X.reshape(-1, 1) if your data has a single feature or X.reshape(1, -1) if it contains a single sample.\n",
      "  warnings.warn(DEPRECATION_MSG_1D, DeprecationWarning)\n"
     ]
    }
   ],
   "source": [
    "train_preds = model.predict(X_train, batch_size=batch_size)\n",
    "test_preds = model.predict(X_test, batch_size=batch_size)\n",
    "\n",
    "train_preds = scaler.inverse_transform(train_preds)\n",
    "y_train = scaler.inverse_transform(y_train)\n",
    "test_preds = scaler.inverse_transform(test_preds)\n",
    "y_test = scaler.inverse_transform(y_test)\n",
    "\n",
    "train_score = math.sqrt(mean_squared_error(y_train, train_preds))\n",
    "print('Train Score: %.2f RMSE' % (train_score))\n",
    "test_score = math.sqrt(mean_squared_error(y_test, test_preds))\n",
    "print('Test Score: %.2f RMSE' % (test_score))"
   ]
  },
  {
   "cell_type": "code",
   "execution_count": 299,
   "metadata": {
    "collapsed": false
   },
   "outputs": [
    {
     "data": {
      "text/plain": [
       "<matplotlib.axes._subplots.AxesSubplot at 0x1aeb73fd0>"
      ]
     },
     "execution_count": 299,
     "metadata": {},
     "output_type": "execute_result"
    },
    {
     "data": {
      "image/png": "[encoded data removed]",
      "text/plain": [
       "<matplotlib.figure.Figure at 0x1a7373690>"
      ]
     },
     "metadata": {},
     "output_type": "display_data"
    }
   ],
   "source": [
    "results = pd.concat([pd.Series(y_test), pd.Series(map(lambda x: x[0], test_preds))], axis=1)\n",
    "results.columns = [\"Actual\", \"Predicted\"]\n",
    "results.plot()"
   ]
  }
 ],
 "metadata": {
  "kernelspec": {
   "display_name": "Python 2",
   "language": "python",
   "name": "python2"
  },
  "language_info": {
   "codemirror_mode": {
    "name": "ipython",
    "version": 2
   },
   "file_extension": ".py",
   "mimetype": "text/x-python",
   "name": "python",
   "nbconvert_exporter": "python",
   "pygments_lexer": "ipython2",
   "version": "2.7.12"
  }
 },
 "nbformat": 4,
 "nbformat_minor": 0
}
